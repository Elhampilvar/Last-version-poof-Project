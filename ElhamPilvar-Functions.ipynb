{
 "cells": [
  {
   "cell_type": "code",
   "execution_count": null,
   "metadata": {},
   "outputs": [],
   "source": []
  },
  {
   "cell_type": "code",
   "execution_count": null,
   "metadata": {},
   "outputs": [],
   "source": [
    "#!/usr/bin/env python3\n",
    "# -*- coding: utf-8 -*-\n",
    "# This file contains the RHS functions and the exact solutions\n",
    "\n",
    "#\n",
    "# The RHS function f(x)\n",
    "#\n",
    "def rhs_fn(x, y):\n",
    "\n",
    "  value = 2.0 * x * ( 1.0 - x ) + 2.0 * y * ( 1.0 - y )\n",
    "  return value\n",
    "\n",
    "\n",
    "#\n",
    "# The exact solution \n",
    "#  \n",
    "def exact_fn(x, y):\n",
    "  value = x * ( 1.0 - x ) * y * ( 1.0 - y )\n",
    "  return value\n",
    "\n",
    "\n",
    "#\n",
    "# The exact solution \n",
    "#  \n",
    "def exact_fnx(x, y):\n",
    "  value = ( 1.0 - 2.0 * x ) * y * ( 1.0 - y )\n",
    "  return value    \n",
    "\n",
    "\n",
    "#\n",
    "# The exact solution \n",
    "#  \n",
    "def exact_fny(x, y):\n",
    "  value = x * ( 1.0 - x ) *  ( 1.0 - 2.0 * y )\n",
    "  return value"
   ]
  }
 ],
 "metadata": {
  "kernelspec": {
   "display_name": "Python 3",
   "language": "python",
   "name": "python3"
  },
  "language_info": {
   "codemirror_mode": {
    "name": "ipython",
    "version": 3
   },
   "file_extension": ".py",
   "mimetype": "text/x-python",
   "name": "python",
   "nbconvert_exporter": "python",
   "pygments_lexer": "ipython3",
   "version": "3.6.10"
  }
 },
 "nbformat": 4,
 "nbformat_minor": 4
}
