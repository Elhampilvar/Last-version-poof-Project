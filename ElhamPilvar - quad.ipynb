{
 "cells": [
  {
   "cell_type": "markdown",
   "metadata": {},
   "source": [
    "## Set up a quadrature rule\n",
    "In this section we define a quadrature rule for solving integrals on the interval $[0,1]$.\n",
    "\n",
    "we also set quadrature numbers, quadrature point and finally the quadrature weight which are needed to use the so-called rule."
   ]
  },
  {
   "cell_type": "code",
   "execution_count": null,
   "metadata": {},
   "outputs": [],
   "source": [
    "#!/usr/bin/env python3\n",
    "# -*- coding: utf-8 -*-\n",
    "\n",
    "\n",
    "#\n",
    "#  Set up a quadrature rule.\n",
    "#  This rule is defined on the reference interval [0,1].\n",
    "#\n",
    "import numpy as np \n",
    "\n",
    "def quad():\n",
    "    quad_num = 3\n",
    "\n",
    "    quad_point = np.array (( \\\n",
    "                            0.112701665379258311482073460022, \\\n",
    "                            0.5, \\\n",
    "                            0.887298334620741688517926539978 ) )\n",
    "\n",
    "    quad_weight = np.array (( \\\n",
    "                             5.0 / 18.0, \\\n",
    "                             8.0 / 18.0, \\\n",
    "                             5.0 / 18.0 ))\n",
    "    return quad_num, quad_point,quad_weight\n",
    "#"
   ]
  }
 ],
 "metadata": {
  "kernelspec": {
   "display_name": "Python 3",
   "language": "python",
   "name": "python3"
  },
  "language_info": {
   "codemirror_mode": {
    "name": "ipython",
    "version": 3
   },
   "file_extension": ".py",
   "mimetype": "text/x-python",
   "name": "python",
   "nbconvert_exporter": "python",
   "pygments_lexer": "ipython3",
   "version": "3.6.10"
  }
 },
 "nbformat": 4,
 "nbformat_minor": 4
}
